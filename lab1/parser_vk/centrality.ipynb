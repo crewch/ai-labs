{
 "cells": [
  {
   "cell_type": "code",
   "execution_count": 12,
   "id": "1d9e1978",
   "metadata": {},
   "outputs": [],
   "source": [
    "import json\n",
    "import networkx as nx\n",
    "import pandas as pd"
   ]
  },
  {
   "cell_type": "code",
   "execution_count": 13,
   "id": "a2d1e4fc",
   "metadata": {},
   "outputs": [],
   "source": [
    "# 1. Загружаем ваш JSON\n",
    "with open(\n",
    "    \"saved-data/Aleksey.json\", \"r\", encoding=\"utf-8\"\n",
    ") as f:\n",
    "    data_aleksey = json.load(f)"
   ]
  },
  {
   "cell_type": "code",
   "execution_count": 14,
   "id": "4a7d0145",
   "metadata": {},
   "outputs": [],
   "source": [
    "with open(\n",
    "    \"saved-data/Arseny.json\", \"r\", encoding=\"utf-8\"\n",
    ") as f:\n",
    "    data_arseny = json.load(f)"
   ]
  },
  {
   "cell_type": "code",
   "execution_count": 15,
   "id": "16a2fd8d",
   "metadata": {},
   "outputs": [],
   "source": [
    "with open(\n",
    "    \"saved-data/Artem.json\", \"r\", encoding=\"utf-8\"\n",
    ") as f:\n",
    "    data_artem = json.load(f)"
   ]
  },
  {
   "cell_type": "code",
   "execution_count": 16,
   "id": "f8dea775",
   "metadata": {},
   "outputs": [],
   "source": [
    "with open(\n",
    "    \"saved-data/Viktor.json\", \"r\", encoding=\"utf-8\"\n",
    ") as f:\n",
    "    data_viktor = json.load(f)"
   ]
  },
  {
   "cell_type": "code",
   "execution_count": null,
   "id": "d3f9a298",
   "metadata": {},
   "outputs": [],
   "source": [
    "def node_stats(data):\n",
    "    group_ids = [person[\"id\"] for person in data[\"people\"]]\n",
    "\n",
    "    G = nx.Graph()\n",
    "\n",
    "    for edge in data[\"edges\"]:\n",
    "        G.add_edge(edge[0], edge[1])\n",
    "\n",
    "    betweenness = nx.betweenness_centrality(G)\n",
    "    closeness = nx.closeness_centrality(G)\n",
    "\n",
    "    try:\n",
    "        eigenvector = nx.eigenvector_centrality(G, max_iter=500)\n",
    "    except nx.PowerIterationFailedConvergence:\n",
    "        eigenvector = {node: 0 for node in G.nodes}\n",
    "\n",
    "    results = []\n",
    "    for node_id in group_ids:\n",
    "        if node_id in G.nodes:\n",
    "            results.append(\n",
    "                {\n",
    "                    \"ID\": node_id,\n",
    "                    \"Имя\": next(\n",
    "                        p[\"first_name\"] for p in data[\"people\"] if p[\"id\"] == node_id\n",
    "                    ),\n",
    "                    \"Посредничество\": betweenness[node_id],\n",
    "                    \"Близость\": closeness[node_id],\n",
    "                    \"Собственный вектор\": eigenvector[node_id],\n",
    "                }\n",
    "            )\n",
    "\n",
    "    df = pd.DataFrame(results)\n",
    "\n",
    "    return df\n"
   ]
  },
  {
   "cell_type": "code",
   "execution_count": null,
   "id": "77b5e362",
   "metadata": {},
   "outputs": [],
   "source": [
    "aleksey_stats = node_stats(data_aleksey)"
   ]
  },
  {
   "cell_type": "code",
   "execution_count": 20,
   "id": "50f4be23",
   "metadata": {},
   "outputs": [
    {
     "data": {
      "text/plain": [
       "ID                    432213567\n",
       "Имя                      Alexey\n",
       "Посредничество         0.577843\n",
       "Близость               0.504817\n",
       "Собственный вектор     0.111906\n",
       "Name: 0, dtype: object"
      ]
     },
     "execution_count": 20,
     "metadata": {},
     "output_type": "execute_result"
    }
   ],
   "source": [
    "aleksey_stats.iloc[0]"
   ]
  },
  {
   "cell_type": "code",
   "execution_count": 27,
   "id": "28b0bf30",
   "metadata": {},
   "outputs": [],
   "source": [
    "arseny_stats = node_stats(data_arseny)"
   ]
  },
  {
   "cell_type": "code",
   "execution_count": 28,
   "id": "c66b7448",
   "metadata": {},
   "outputs": [
    {
     "data": {
      "text/plain": [
       "ID                    476459668\n",
       "Имя                      Arseny\n",
       "Посредничество         0.552711\n",
       "Близость               0.501984\n",
       "Собственный вектор     0.029277\n",
       "Name: 0, dtype: object"
      ]
     },
     "execution_count": 28,
     "metadata": {},
     "output_type": "execute_result"
    }
   ],
   "source": [
    "arseny_stats.iloc[0]"
   ]
  },
  {
   "cell_type": "code",
   "execution_count": 29,
   "id": "365de9ce",
   "metadata": {},
   "outputs": [],
   "source": [
    "artem_stats = node_stats(data_artem)"
   ]
  },
  {
   "cell_type": "code",
   "execution_count": 30,
   "id": "a3d96ed1",
   "metadata": {},
   "outputs": [
    {
     "data": {
      "text/plain": [
       "ID                    265329539\n",
       "Имя                      Artyom\n",
       "Посредничество          0.53056\n",
       "Близость               0.502644\n",
       "Собственный вектор     0.034801\n",
       "Name: 0, dtype: object"
      ]
     },
     "execution_count": 30,
     "metadata": {},
     "output_type": "execute_result"
    }
   ],
   "source": [
    "artem_stats.iloc[0]"
   ]
  },
  {
   "cell_type": "code",
   "execution_count": 31,
   "id": "30e232c7",
   "metadata": {},
   "outputs": [],
   "source": [
    "viktor_stats = node_stats(data_viktor)"
   ]
  },
  {
   "cell_type": "code",
   "execution_count": 32,
   "id": "9a031d7d",
   "metadata": {},
   "outputs": [
    {
     "data": {
      "text/plain": [
       "ID                    242504512\n",
       "Имя                      Viktor\n",
       "Посредничество         0.708795\n",
       "Близость               0.502055\n",
       "Собственный вектор     0.023803\n",
       "Name: 0, dtype: object"
      ]
     },
     "execution_count": 32,
     "metadata": {},
     "output_type": "execute_result"
    }
   ],
   "source": [
    "viktor_stats.iloc[0]"
   ]
  }
 ],
 "metadata": {
  "kernelspec": {
   "display_name": "aivenv (3.12.0)",
   "language": "python",
   "name": "python3"
  },
  "language_info": {
   "codemirror_mode": {
    "name": "ipython",
    "version": 3
   },
   "file_extension": ".py",
   "mimetype": "text/x-python",
   "name": "python",
   "nbconvert_exporter": "python",
   "pygments_lexer": "ipython3",
   "version": "3.12.0"
  }
 },
 "nbformat": 4,
 "nbformat_minor": 5
}
