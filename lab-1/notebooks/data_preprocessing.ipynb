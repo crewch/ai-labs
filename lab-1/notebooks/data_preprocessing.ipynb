{
 "cells": [
  {
   "cell_type": "code",
   "execution_count": 1,
   "id": "f896537c",
   "metadata": {},
   "outputs": [],
   "source": [
    "import pandas as pd\n",
    "import numpy as np"
   ]
  },
  {
   "cell_type": "code",
   "execution_count": 10,
   "id": "32928dfd",
   "metadata": {},
   "outputs": [
    {
     "name": "stderr",
     "output_type": "stream",
     "text": [
      "<>:1: SyntaxWarning: invalid escape sequence '\\d'\n",
      "<>:1: SyntaxWarning: invalid escape sequence '\\d'\n",
      "C:\\Users\\Aleksey\\AppData\\Local\\Temp\\ipykernel_6416\\3516398827.py:1: SyntaxWarning: invalid escape sequence '\\d'\n",
      "  data = pd.read_csv(\"..\\data\\datatable.csv\", nrows=1000000)\n"
     ]
    }
   ],
   "source": [
    "data = pd.read_csv(\"..\\data\\datatable.csv\", nrows=1000000)"
   ]
  },
  {
   "cell_type": "code",
   "execution_count": 13,
   "id": "527b8de3",
   "metadata": {},
   "outputs": [],
   "source": [
    "data = data.fillna(-1)"
   ]
  },
  {
   "cell_type": "code",
   "execution_count": 14,
   "id": "49a16121",
   "metadata": {},
   "outputs": [
    {
     "data": {
      "text/plain": [
       "alcohol\n",
       "-1.0    948565\n",
       " 0.0     34622\n",
       " 3.0      5279\n",
       " 4.0      4419\n",
       " 2.0      3424\n",
       " 1.0      2061\n",
       " 5.0      1630\n",
       "Name: count, dtype: int64"
      ]
     },
     "execution_count": 14,
     "metadata": {},
     "output_type": "execute_result"
    }
   ],
   "source": [
    "data['alcohol'].value_counts()"
   ]
  },
  {
   "cell_type": "code",
   "execution_count": 15,
   "id": "8c15220d",
   "metadata": {},
   "outputs": [
    {
     "data": {
      "text/plain": [
       "Index(['status', 'sex', 'birthdate', 'city_id', 'country_id', 'alcohol',\n",
       "       'smoking', 'political_orientation', 'life_main_priority',\n",
       "       'people_main_priority', 'relationship_status', 'languages_count',\n",
       "       'followers_count', 'university_id', 'company_group_id'],\n",
       "      dtype='object')"
      ]
     },
     "execution_count": 15,
     "metadata": {},
     "output_type": "execute_result"
    }
   ],
   "source": [
    "data.columns"
   ]
  },
  {
   "cell_type": "code",
   "execution_count": 17,
   "id": "fd611930",
   "metadata": {},
   "outputs": [
    {
     "name": "stdout",
     "output_type": "stream",
     "text": [
      "status\n",
      "1    739571\n",
      "0    260429\n",
      "Name: count, dtype: int64\n",
      "sex\n",
      "1        441463\n",
      "2        431795\n",
      "0        126721\n",
      "3            12\n",
      "127           2\n",
      "7             1\n",
      "117           1\n",
      "999           1\n",
      "66            1\n",
      "21            1\n",
      "67467         1\n",
      "49            1\n",
      "Name: count, dtype: int64\n",
      "birthdate\n",
      "-1            711422\n",
      "1988-01-01       165\n",
      "1987-05-05       155\n",
      "1987-01-01       154\n",
      "1988-03-01       148\n",
      "               ...  \n",
      "1994-02-06         1\n",
      "1963-06-29         1\n",
      "1967-07-26         1\n",
      "1998-07-03         1\n",
      "1966-11-12         1\n",
      "Name: count, Length: 15734, dtype: int64\n",
      "city_id\n",
      "-1.0          352213\n",
      " 2.0          325312\n",
      " 1.0          168837\n",
      " 99.0           5491\n",
      " 49.0           4710\n",
      "               ...  \n",
      " 1930737.0         1\n",
      " 1100945.0         1\n",
      " 20488.0           1\n",
      " 7558.0            1\n",
      " 1046237.0         1\n",
      "Name: count, Length: 7085, dtype: int64\n",
      "country_id\n",
      " 1.000000e+00    635821\n",
      "-1.000000e+00    313039\n",
      " 2.000000e+00      7829\n",
      " 9.000000e+00      6402\n",
      " 4.000000e+00      4240\n",
      "                  ...  \n",
      " 9.999990e+05         1\n",
      " 1.000000e+08         1\n",
      " 9.990000e+02         1\n",
      " 1.215752e+09         1\n",
      " 2.000000e+07         1\n",
      "Name: count, Length: 244, dtype: int64\n",
      "alcohol\n",
      "-1.0    948565\n",
      " 0.0     34622\n",
      " 3.0      5279\n",
      " 4.0      4419\n",
      " 2.0      3424\n",
      " 1.0      2061\n",
      " 5.0      1630\n",
      "Name: count, dtype: int64\n",
      "smoking\n",
      "-1.0    948174\n",
      " 0.0     30940\n",
      " 2.0      7444\n",
      " 1.0      5409\n",
      " 4.0      3974\n",
      " 3.0      3061\n",
      " 5.0       998\n",
      "Name: count, dtype: int64\n",
      "political_orientation\n",
      "-1.0       938259\n",
      " 3.0        20815\n",
      " 8.0        13251\n",
      " 4.0         9294\n",
      " 6.0         6479\n",
      " 1.0         3295\n",
      " 2.0         3069\n",
      " 5.0         2795\n",
      " 7.0         2274\n",
      " 9.0          465\n",
      " 666.0          1\n",
      " 9999.0         1\n",
      " 13.0           1\n",
      " 10.0           1\n",
      "Name: count, dtype: int64\n",
      "life_main_priority\n",
      "-1.0    949358\n",
      " 0.0     32093\n",
      " 1.0      7035\n",
      " 6.0      6363\n",
      " 5.0      2545\n",
      " 7.0       744\n",
      " 4.0       599\n",
      " 3.0       508\n",
      " 8.0       412\n",
      " 2.0       343\n",
      "Name: count, dtype: int64\n",
      "people_main_priority\n",
      "-1.0    949104\n",
      " 0.0     31540\n",
      " 2.0     10466\n",
      " 6.0      4205\n",
      " 1.0      2329\n",
      " 5.0      1769\n",
      " 4.0       371\n",
      " 3.0       216\n",
      "Name: count, dtype: int64\n",
      "relationship_status\n",
      "-1.0     810747\n",
      " 0.0      93281\n",
      " 4.0      53081\n",
      " 1.0      25495\n",
      " 2.0       5367\n",
      " 6.0       4704\n",
      " 7.0       3049\n",
      " 5.0       2717\n",
      " 3.0       1379\n",
      " 8.0        173\n",
      "-99.0         7\n",
      "Name: count, dtype: int64\n",
      "languages_count\n",
      "-1.0     927191\n",
      " 1.0      58160\n",
      " 2.0       8320\n",
      " 3.0       4290\n",
      " 4.0       1443\n",
      " 5.0        385\n",
      " 6.0        115\n",
      " 7.0         43\n",
      " 8.0         18\n",
      " 9.0         10\n",
      " 10.0         6\n",
      " 12.0         5\n",
      " 11.0         4\n",
      " 16.0         2\n",
      " 30.0         2\n",
      " 14.0         2\n",
      " 21.0         1\n",
      " 20.0         1\n",
      " 15.0         1\n",
      " 29.0         1\n",
      "Name: count, dtype: int64\n",
      "followers_count\n",
      "-1.0        387736\n",
      " 0.0         24790\n",
      " 1.0         18940\n",
      " 2.0         12656\n",
      " 3.0          9758\n",
      "             ...  \n",
      " 19827.0         1\n",
      " 5996.0          1\n",
      " 4119.0          1\n",
      " 9192.0          1\n",
      " 29744.0         1\n",
      "Name: count, Length: 6603, dtype: int64\n",
      "university_id\n",
      "-1.0          810747\n",
      " 0.0           40405\n",
      " 1.0            9315\n",
      " 56.0           5810\n",
      " 1173072.0      5394\n",
      "               ...  \n",
      " 44608.0           1\n",
      " 32257.0           1\n",
      " 158429.0          1\n",
      " 21245.0           1\n",
      " 32267.0           1\n",
      "Name: count, Length: 7329, dtype: int64\n",
      "company_group_id\n",
      "-1.0            989941\n",
      " 11283947.0         38\n",
      " 22822305.0         35\n",
      " 22522055.0         30\n",
      " 94.0               27\n",
      "                 ...  \n",
      " 107744350.0         1\n",
      " 38632612.0          1\n",
      " 93674375.0          1\n",
      " 5707225.0           1\n",
      " 38228859.0          1\n",
      "Name: count, Length: 8813, dtype: int64\n"
     ]
    }
   ],
   "source": [
    "for i in data.columns:\n",
    "    print(data[i].value_counts())"
   ]
  },
  {
   "cell_type": "code",
   "execution_count": 21,
   "id": "ed5fc4b3",
   "metadata": {},
   "outputs": [
    {
     "data": {
      "text/plain": [
       "39313"
      ]
     },
     "execution_count": 21,
     "metadata": {},
     "output_type": "execute_result"
    }
   ],
   "source": [
    "len(data[(data[\"country_id\"] != -1) & (data[\"city_id\"] == -1)])"
   ]
  },
  {
   "cell_type": "code",
   "execution_count": 22,
   "id": "424163f6",
   "metadata": {},
   "outputs": [
    {
     "data": {
      "text/plain": [
       "139"
      ]
     },
     "execution_count": 22,
     "metadata": {},
     "output_type": "execute_result"
    }
   ],
   "source": [
    "len(data[(data[\"country_id\"] == -1) & (data[\"city_id\"] != -1)])"
   ]
  }
 ],
 "metadata": {
  "kernelspec": {
   "display_name": "aivenv (3.12.0)",
   "language": "python",
   "name": "python3"
  },
  "language_info": {
   "codemirror_mode": {
    "name": "ipython",
    "version": 3
   },
   "file_extension": ".py",
   "mimetype": "text/x-python",
   "name": "python",
   "nbconvert_exporter": "python",
   "pygments_lexer": "ipython3",
   "version": "3.12.0"
  }
 },
 "nbformat": 4,
 "nbformat_minor": 5
}
